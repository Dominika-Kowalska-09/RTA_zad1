import requests

# Test głównej strony
response = requests.get('http://localhost:5003/')
print("Odpowiedź ze strony głównej:", response.json())

# Test predykcji z sumą > 5.8
response = requests.get('http://localhost:5003/api/v1.0/predict?num1=3&num2=4')
print("Predykcja dla 3+4:", response.json())

# Test predykcji z sumą < 5.8
response = requests.get('http://localhost:5003/api/v1.0/predict?num1=2&num2=3')
print("Predykcja dla 2+3:", response.json())
